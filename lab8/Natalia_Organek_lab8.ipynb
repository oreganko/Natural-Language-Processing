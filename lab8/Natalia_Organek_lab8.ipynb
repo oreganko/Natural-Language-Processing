{
 "cells": [
  {
   "cell_type": "markdown",
   "id": "greatest-hierarchy",
   "metadata": {},
   "source": [
    "# Natalia Organek - lab 8"
   ]
  },
  {
   "cell_type": "code",
   "execution_count": 248,
   "id": "national-craft",
   "metadata": {},
   "outputs": [],
   "source": [
    "import os\n",
    "import requests\n",
    "import regex as re\n",
    "from collections import Counter\n",
    "import nltk\n",
    "import math\n",
    "from tqdm import tqdm\n",
    "import time\n",
    "import collections\n",
    "from matplotlib import pyplot as plt"
   ]
  },
  {
   "cell_type": "markdown",
   "id": "bored-plumbing",
   "metadata": {},
   "source": [
    "## Sort bills according to their size and take top 50 (largest) bills."
   ]
  },
  {
   "cell_type": "code",
   "execution_count": 2,
   "id": "computational-scientist",
   "metadata": {},
   "outputs": [],
   "source": [
    "directory = '../lab1/ustawy'\n",
    "filenames = os.listdir(directory)"
   ]
  },
  {
   "cell_type": "code",
   "execution_count": 92,
   "id": "characteristic-equation",
   "metadata": {},
   "outputs": [],
   "source": [
    "corpus = []\n",
    "html_regex = r'<[\\s\\S]*?>'\n",
    "\n",
    "\n",
    "for filename in filenames:\n",
    "    with open(os.path.join(directory, filename), encoding=\"UTF-8\") as f:\n",
    "        bill = f.read()\n",
    "        bill = re.sub(html_regex, '', bill)\n",
    "        bill = bill.replace('\\xad', '').replace('\\xa0', ' ')\n",
    "        count = len(bill)\n",
    "        \n",
    "        corpus.append((count, filename, bill))"
   ]
  },
  {
   "cell_type": "code",
   "execution_count": 93,
   "id": "theoretical-natural",
   "metadata": {},
   "outputs": [],
   "source": [
    "corpus.sort(key = lambda a: (-a[0], a[1]))"
   ]
  },
  {
   "cell_type": "code",
   "execution_count": 94,
   "id": "minus-relief",
   "metadata": {},
   "outputs": [],
   "source": [
    "top_50 = [bill for _, filename, bill in corpus[:50]]"
   ]
  },
  {
   "cell_type": "markdown",
   "id": "referenced-friendship",
   "metadata": {},
   "source": [
    "## Use the lemmatized and sentence split documents (from ex. 5) to identify the expressions that consist of consecutive words starting with a capital letter (you will have to look at the inflected form of the word to check its capitalization) that do not occupy the first position in a sentence. E.g. the sentence:\n",
    "Wczoraj w Krakowie miało miejsce spotkanie prezydentów Polski i Stanów Zjednoczonych.\n",
    "should yield the following entries: Kraków, Polska, Stan Zjednoczony."
   ]
  },
  {
   "cell_type": "code",
   "execution_count": 146,
   "id": "third-pension",
   "metadata": {},
   "outputs": [],
   "source": [
    "def ask_krnnt(text):\n",
    "    answer = requests.post('http://localhost:9201/', data=text.encode('utf-8')).text\n",
    "    answer_words = answer.split('\\n')\n",
    "    words = [word for word in answer_words if word]\n",
    "    return words"
   ]
  },
  {
   "cell_type": "code",
   "execution_count": 175,
   "id": "dutch-clinic",
   "metadata": {},
   "outputs": [],
   "source": [
    "# import String\n",
    "\n",
    "def lemmatize_and_tag_text(text):\n",
    "    words = ask_krnnt(text)\n",
    "#     get_lem_tag(words)\n",
    "#     return [get_lem_tag(word) for word in words]\n",
    "    return get_lem_tag(words)\n",
    "\n",
    "def is_ok(word):\n",
    "    return word and not '\\tnewline' in word and not '\\tnone' in word and word[0].isupper()\n",
    "\n",
    "def ch_case(word, to_change):\n",
    "    if word.istitle():\n",
    "        return to_change.title()\n",
    "    if word.isupper():\n",
    "        return to_change.upper()\n",
    "    else:\n",
    "        return to_change\n",
    "    \n",
    "def get_lem_tag(words):\n",
    "    bag = []\n",
    "    nxt_i = 0\n",
    "    for i in range(0, len(words), 2):\n",
    "        if i < nxt_i:\n",
    "            continue\n",
    "        \n",
    "        word = words[i].strip()\n",
    "        if is_ok(word):\n",
    "            t_word = word.split('\\t')[0]\n",
    "            full = [ch_case(t_word, words[i+1].split('\\t')[1])]\n",
    "            nxt_i = i + 2\n",
    "            while is_ok(words[nxt_i].strip()):\n",
    "                word = words[nxt_i].strip()\n",
    "                t_word = word.split('\\t')[0]\n",
    "                full.append(ch_case(t_word, words[nxt_i+1].split('\\t')[1]))\n",
    "                nxt_i += 2\n",
    "\n",
    "            bag.append(' '.join(full))\n",
    "    return bag"
   ]
  },
  {
   "cell_type": "code",
   "execution_count": 176,
   "id": "regional-investigator",
   "metadata": {},
   "outputs": [
    {
     "name": "stdout",
     "output_type": "stream",
     "text": [
      "['CIAPEK', 'Reksia', 'Stany Zjednoczony Ameryka', 'Wyspa Kanaryjski']\n"
     ]
    }
   ],
   "source": [
    "lemmatized_corpus = lemmatize_and_tag_text('Ala ma kota. Jan ma psa CIAPEK, Reksia. Koty mają zebry do Stanów Zjednoczonych Ameryki i Wysp Kanaryjskich! Hura? Hura... Tak.')\n",
    "print(lemmatized_corpus)"
   ]
  },
  {
   "cell_type": "code",
   "execution_count": 230,
   "id": "prospective-jumping",
   "metadata": {},
   "outputs": [
    {
     "name": "stderr",
     "output_type": "stream",
     "text": [
      "100%|██████████| 50/50 [17:46<00:00, 21.33s/it]\n"
     ]
    }
   ],
   "source": [
    "lemmatized_acts = []\n",
    "\n",
    "for corpus_text in tqdm(top_50):\n",
    "    lemmatized_acts.extend(lemmatize_and_tag_text(corpus_text))"
   ]
  },
  {
   "cell_type": "markdown",
   "id": "given-small",
   "metadata": {},
   "source": [
    "## Compute the frequency of each identified expression and print 50 results with the largest number of occurrences.\n"
   ]
  },
  {
   "cell_type": "code",
   "execution_count": 231,
   "id": "alone-husband",
   "metadata": {},
   "outputs": [],
   "source": [
    "top_50_names = Counter(lemmatized_acts).most_common(50)"
   ]
  },
  {
   "cell_type": "code",
   "execution_count": 260,
   "id": "integrated-prime",
   "metadata": {},
   "outputs": [
    {
     "data": {
      "text/plain": [
       "['Przewodniczący Komisja Krajowy Niezależny Samorządny Związek',\n",
       " 'Polski Scaloną Nomenklatura Towarowy Handel Zagraniczny PCN',\n",
       " 'DO KTÓRY STOSOWAĆ SIĘ PROCEDURA ZAWIESZENIE POBÓR AKCYZA I',\n",
       " 'Przewodniczący Ogólnopolski Porozumienie Związek Zawodowy',\n",
       " 'Biuletyn Informacja Publiczny Urząd Regulacja Energetyka',\n",
       " 'Krajowy Związek Kas Powszechny Ubezpieczenie Zdrowotny',\n",
       " 'Państwowy Fundusz Rehabilitacja Osoba Niepełnosprawny',\n",
       " 'Centralny Rejestr Członek Otwarty Fundusz Emerytalny',\n",
       " 'Krajowy Spółdzielczy Kasa OszczędnościowoKredytowej',\n",
       " 'Powszechny Elektroniczny System Ewidencja Ludność']"
      ]
     },
     "execution_count": 260,
     "metadata": {},
     "output_type": "execute_result"
    }
   ],
   "source": [
    "sorted(Counter(lemmatized_acts), key=lambda x: -len(x))[:10]"
   ]
  },
  {
   "cell_type": "code",
   "execution_count": 264,
   "id": "suspended-princess",
   "metadata": {},
   "outputs": [
    {
     "data": {
      "text/plain": [
       "['A',\n",
       " 'B',\n",
       " 'C',\n",
       " 'D',\n",
       " 'I',\n",
       " 'J',\n",
       " 'K',\n",
       " 'L',\n",
       " 'M',\n",
       " 'N',\n",
       " 'P',\n",
       " 'Q',\n",
       " 'R',\n",
       " 'S',\n",
       " 'U',\n",
       " 'V',\n",
       " 'W',\n",
       " 'X',\n",
       " 'Z',\n",
       " 'B1']"
      ]
     },
     "execution_count": 264,
     "metadata": {},
     "output_type": "execute_result"
    }
   ],
   "source": [
    "sorted(Counter(lemmatized_acts), key=lambda x: (len(x), x[0]))[:20]"
   ]
  },
  {
   "cell_type": "code",
   "execution_count": 232,
   "id": "solved-psychiatry",
   "metadata": {},
   "outputs": [
    {
     "data": {
      "text/plain": [
       "[('Numer', 4311),\n",
       " ('Rzeczpospolita Polski', 461),\n",
       " ('Kodeks', 449),\n",
       " ('Policja', 413),\n",
       " ('Minister', 350),\n",
       " ('Polski', 338),\n",
       " ('Ustawa', 334),\n",
       " ('Skarb Państwo', 319),\n",
       " ('Prawo', 308),\n",
       " ('Rada Minister', 279),\n",
       " ('Kasa Chory', 260),\n",
       " ('Straż Graniczny', 231),\n",
       " ('Unia Europejski', 228),\n",
       " ('Rada', 206),\n",
       " ('Dziennik', 206),\n",
       " ('Fundusz', 193),\n",
       " ('Zakład', 193),\n",
       " ('Sprawiedliwość', 180),\n",
       " ('Urząd', 167),\n",
       " ('Państwo', 166),\n",
       " ('Państwowy Straż Pożarny', 166),\n",
       " ('Prezes Urząd', 155),\n",
       " ('I', 154),\n",
       " ('Obrona Narodowy', 148),\n",
       " ('Finanse', 143),\n",
       " ('Rzeczpospolita', 138),\n",
       " ('Urząd Patentowy', 138),\n",
       " ('Państwowy Komisja Wyborczy', 132),\n",
       " ('II', 126),\n",
       " ('Prezes', 121),\n",
       " ('Komisja', 117),\n",
       " ('Minister Sprawiedliwość', 115),\n",
       " ('Urząd Ochrona Państwo', 112),\n",
       " ('Minister Obrona Narodowy', 105),\n",
       " ('Biuro', 102),\n",
       " ('Administracja', 97),\n",
       " ('Zmiana', 97),\n",
       " ('Sejm', 96),\n",
       " ('U', 93),\n",
       " ('Wolny Handel', 91),\n",
       " ('Komisja Wyborczy', 90),\n",
       " ('III', 85),\n",
       " ('Europejski', 84),\n",
       " ('Sąd Wysoki', 83),\n",
       " ('Kasa', 81),\n",
       " ('WYBORCZY NR', 81),\n",
       " ('Okręgowy Komisja Wyborczy', 81),\n",
       " ('Ordynacja', 80),\n",
       " ('Chory', 79),\n",
       " ('Opieka Społeczny', 77)]"
      ]
     },
     "execution_count": 232,
     "metadata": {},
     "output_type": "execute_result"
    }
   ],
   "source": [
    "top_50_names"
   ]
  },
  {
   "cell_type": "markdown",
   "id": "working-blank",
   "metadata": {},
   "source": [
    "## Apply the NER algorithm to identify the named entities in the same set of documents (not lemmatized) using the n82 model."
   ]
  },
  {
   "cell_type": "code",
   "execution_count": 192,
   "id": "damaged-diving",
   "metadata": {},
   "outputs": [],
   "source": [
    "lpmn = 'any2txt|wcrft2|liner2({\"model\":\"n82\"})'\n",
    "email_address = 'kulczycka@student.agh.edu.pl'\n",
    "BASE_URL = 'http://ws.clarin-pl.eu/nlprest2/base'\n",
    "RESULT_DIRECTORY = 'done'"
   ]
  },
  {
   "cell_type": "code",
   "execution_count": 233,
   "id": "lonely-idaho",
   "metadata": {},
   "outputs": [],
   "source": [
    "def start_task(text):\n",
    "    data = {'lpmn': lpmn, 'user': email_address, 'text': text}\n",
    "    return requests.post(f'{BASE_URL}/startTask/', json=data).text\n",
    "\n",
    "\n",
    "def monitor_task(task_id, max_attempts=5):     \n",
    "    status = 'QUEUE'\n",
    "    value = None\n",
    "    \n",
    "    attempts = 0\n",
    "    while status != 'DONE' and attempts < max_attempts:\n",
    "        response = requests.get(f'{BASE_URL}/getStatus/{task_id}').json()\n",
    "        status = response['status']\n",
    "        if status == 'DONE':\n",
    "            value = response['value']\n",
    "        attempts += 1\n",
    "        time.sleep(0.5)\n",
    "\n",
    "    if status == 'ERROR':\n",
    "        print(f'Error: {result}')\n",
    "\n",
    "    return value"
   ]
  },
  {
   "cell_type": "code",
   "execution_count": 284,
   "id": "cleared-puppy",
   "metadata": {},
   "outputs": [],
   "source": [
    "task_ids = [\n",
    "    start_task(text)\n",
    "    for text\n",
    "    in tqdm(top_50)\n",
    "]"
   ]
  },
  {
   "cell_type": "code",
   "execution_count": 239,
   "id": "wireless-woman",
   "metadata": {},
   "outputs": [
    {
     "name": "stderr",
     "output_type": "stream",
     "text": [
      "100%|██████████| 50/50 [04:52<00:00,  5.85s/it]\n"
     ]
    }
   ],
   "source": [
    "done_tasks = set()\n",
    "\n",
    "with tqdm(total=len(task_ids), position=0, leave=True) as pbar:\n",
    "    while pbar.n < pbar.total:\n",
    "        for file_name, task_id in enumerate(task_ids):    \n",
    "            if task_id in done_tasks:\n",
    "                continue\n",
    "\n",
    "            result = monitor_task(task_id)\n",
    "\n",
    "            if result == None:\n",
    "                continue\n",
    "\n",
    "            file_id = result[0]['fileID']\n",
    "            response = requests.get(f'{BASE_URL}/download{file_id}')\n",
    "\n",
    "            with open(f'{RESULT_DIRECTORY}/{file_name}.ccl', 'w', encoding='utf-8') as file:\n",
    "                file.write(response.content.decode('utf-8'))\n",
    "\n",
    "            done_tasks.add(task_id)\n",
    "            pbar.update()"
   ]
  },
  {
   "cell_type": "markdown",
   "id": "current-discovery",
   "metadata": {},
   "source": [
    "## Plot the frequency (histogram) of the coarse-grained classes (e.g. nam_adj, nam_eve, nam_fac)."
   ]
  },
  {
   "cell_type": "code",
   "execution_count": 240,
   "id": "expected-admission",
   "metadata": {},
   "outputs": [],
   "source": [
    "class Token:\n",
    "    \n",
    "    def __init__(self, orth, base, ctag):\n",
    "        self.orth = orth\n",
    "        self.base = base\n",
    "        self.ctag = ctag\n",
    "        \n",
    "    def get_orth(self):\n",
    "        return self.orth\n",
    "    \n",
    "    def get_base(self):\n",
    "        return self.base\n",
    "    \n",
    "    def get_ctag(self):\n",
    "        return self.ctag\n",
    "        \n",
    "\n",
    "class Annotation:\n",
    "    \n",
    "    def __init__(self, category, tokens):\n",
    "        self.category = category\n",
    "        self.tokens = tokens\n",
    "        self.lemma = self.get_orth()\n",
    "        \n",
    "    def get_category(self):\n",
    "        return self.category\n",
    "    \n",
    "    def get_tokens(self):\n",
    "        return self.tokens\n",
    "    \n",
    "    def get_orth(self):\n",
    "        return \" \".join([token.get_orth() for token in self.tokens])\n",
    "\n",
    "    def get_base(self):\n",
    "        return \" \".join([token.get_base() for token in self.tokens])\n",
    "    \n",
    "    def get_ctag(self):\n",
    "        return \" \".join([token.get_ctag() for token in self.tokens])\n",
    "    \n",
    "    def get_space(self):\n",
    "        return \" \".join([\"True\" for token in self.tokens])\n",
    "    \n",
    "    def get_lemma(self):\n",
    "        return self.lemma\n",
    "    \n",
    "    def set_lemma(self, lemma):\n",
    "        self.lemma = lemma\n",
    "\n",
    "    def __str__(self):\n",
    "        return \"[%s] %s\" % (self.get_category(), self.get_lemma())"
   ]
  },
  {
   "cell_type": "code",
   "execution_count": 241,
   "id": "helpful-steal",
   "metadata": {},
   "outputs": [],
   "source": [
    "import xml.etree.ElementTree as ET\n",
    "\n",
    "def sentence_ner(sentence):\n",
    "    channels = {}\n",
    "    for token in sentence.iter(\"tok\"):\n",
    "        orth = token.find(\"./orth\").text\n",
    "        base = token.find(\"./lex/base\").text\n",
    "        ctag = token.find(\"./lex/ctag\").text\n",
    "        t = Token(orth, base, ctag)\n",
    "        for channel in token.iter(\"ann\"):            \n",
    "            index = int(channel.text)\n",
    "            chan = channel.attrib[\"chan\"]            \n",
    "            if index > 0:                \n",
    "                channels.setdefault(chan, {}) \\\n",
    "                        .setdefault(index, []) \\\n",
    "                        .append(t)\n",
    "                \n",
    "    annotations = []\n",
    "    for (ann_type, group) in channels.items():\n",
    "        for tokens in group.values():            \n",
    "            an = Annotation(ann_type, tokens)\n",
    "            annotations.append(an)\n",
    "    \n",
    "    return annotations\n",
    "                \n",
    "\n",
    "def ccl_ner(ccl):\n",
    "    tree = ET.parse(ccl)\n",
    "    annotations = []\n",
    "    for sentence in tree.iter(\"sentence\"):\n",
    "        annotations += sentence_ner(sentence)\n",
    "    return annotations"
   ]
  },
  {
   "cell_type": "code",
   "execution_count": 283,
   "id": "standing-thickness",
   "metadata": {},
   "outputs": [],
   "source": [
    "coarse_grained_class = []\n",
    "\n",
    "for file in tqdm([file for file in os.listdir(RESULT_DIRECTORY) if file.endswith('.ccl')]):\n",
    "    annotations = ccl_ner(os.path.join(RESULT_DIRECTORY, file))\n",
    "    for annotation in annotations:\n",
    "        category = annotation.get_category()\n",
    "        coarse_category = '_'.join(category.split('_')[:2])\n",
    "        coarse_grained_class.append(coarse_category)\n",
    "        \n",
    "coarse_grained_class_counter = Counter(coarse_grained_class)"
   ]
  },
  {
   "cell_type": "code",
   "execution_count": 243,
   "id": "configured-frontier",
   "metadata": {},
   "outputs": [
    {
     "data": {
      "text/plain": [
       "<BarContainer object of 9 artists>"
      ]
     },
     "execution_count": 243,
     "metadata": {},
     "output_type": "execute_result"
    },
    {
     "data": {
      "image/png": "[encoded data removed]",
      "text/plain": [
       "<Figure size 1080x576 with 1 Axes>"
      ]
     },
     "metadata": {
      "needs_background": "light"
     },
     "output_type": "display_data"
    }
   ],
   "source": [
    "plt.figure(figsize=(15, 8))\n",
    "plt.bar(coarse_grained_class_counter.keys(), coarse_grained_class_counter.values())"
   ]
  },
  {
   "cell_type": "markdown",
   "id": "egyptian-joyce",
   "metadata": {},
   "source": [
    "## Display 10 most frequent Named Entities for each coarse-grained type."
   ]
  },
  {
   "cell_type": "code",
   "execution_count": 244,
   "id": "disciplinary-staff",
   "metadata": {},
   "outputs": [
    {
     "name": "stderr",
     "output_type": "stream",
     "text": [
      "100%|██████████| 50/50 [00:36<00:00,  1.38it/s]\n"
     ]
    }
   ],
   "source": [
    "coarse_grained_class_entity_counter = collections.defaultdict(lambda: collections.defaultdict(int))\n",
    "\n",
    "for file in tqdm([file for file in os.listdir(RESULT_DIRECTORY) if file.endswith('.ccl')]):\n",
    "    annotations = ccl_ner(os.path.join(RESULT_DIRECTORY, file))\n",
    "    for annotation in annotations:\n",
    "        category = annotation.get_category()\n",
    "        entity = annotation.get_lemma()\n",
    "        coarse_category = '_'.join(category.split('_')[:2])\n",
    "        coarse_grained_class_entity_counter[coarse_category][entity] += 1"
   ]
  },
  {
   "cell_type": "code",
   "execution_count": 245,
   "id": "ready-briefs",
   "metadata": {},
   "outputs": [
    {
     "name": "stdout",
     "output_type": "stream",
     "text": [
      "---------------------------------------------------------------------------------------------------------------\n",
      "| nam_pro | 1534 | Dz . U .                                                                                   |\n",
      "| nam_pro | 80   | Dz . Urz                                                                                   |\n",
      "| nam_pro | 71   | Ordynacja podatkowa                                                                        |\n",
      "| nam_pro | 64   | Kodeksu karnego                                                                            |\n",
      "| nam_pro | 62   | Monitor Polski                                                                             |\n",
      "| nam_pro | 51   | Spraw Wewnętrznych                                                                         |\n",
      "| nam_pro | 35   | Kodeksu postępowania administracyjnego                                                     |\n",
      "| nam_pro | 33   | Kodeksu postępowania karnego                                                               |\n",
      "| nam_pro | 32   | Kodeksu postępowania cywilnego                                                             |\n",
      "| nam_pro | 26   | Natura 2000                                                                                |\n",
      "---------------------------------------------------------------------------------------------------------------\n",
      "| nam_org | 295  | Skarbu Państwa                                                                             |\n",
      "| nam_org | 291  | Unii Europejskiej                                                                          |\n",
      "| nam_org | 261  | Rada Ministrów                                                                             |\n",
      "| nam_org | 239  | Państwowej Straży Pożarnej                                                                 |\n",
      "| nam_org | 233  | Minister Sprawiedliwości                                                                   |\n",
      "| nam_org | 213  | Prezes Rady Ministrów                                                                      |\n",
      "| nam_org | 162  | Minister Obrony Narodowej                                                                  |\n",
      "| nam_org | 152  | Minister Finansów                                                                          |\n",
      "| nam_org | 137  | Urzędu Ochrony Państwa                                                                     |\n",
      "| nam_org | 114  | EFTA                                                                                       |\n",
      "---------------------------------------------------------------------------------------------------------------\n",
      "| nam_loc | 812  | Rzeczypospolitej Polskiej                                                                  |\n",
      "| nam_loc | 52   | Rzeczpospolita Polska                                                                      |\n",
      "| nam_loc | 51   | Polsce                                                                                     |\n",
      "| nam_loc | 39   | Rzeczpospolitą Polską                                                                      |\n",
      "| nam_loc | 32   | Warszawie                                                                                  |\n",
      "| nam_loc | 20   | Warszawy                                                                                   |\n",
      "| nam_loc | 19   | Nawóz                                                                                      |\n",
      "| nam_loc | 16   | Warszawa                                                                                   |\n",
      "| nam_loc | 11   | Konfederacji Szwajcarskiej                                                                 |\n",
      "| nam_loc | 10   | Polską                                                                                     |\n",
      "---------------------------------------------------------------------------------------------------------------\n",
      "| nam_adj | 116  | polski                                                                                     |\n",
      "| nam_adj | 30   | polskiej                                                                                   |\n",
      "| nam_adj | 16   | Wojewódzki                                                                                 |\n",
      "| nam_adj | 16   | polskiego                                                                                  |\n",
      "| nam_adj | 10   | polskim                                                                                    |\n",
      "| nam_adj | 9    | polska                                                                                     |\n",
      "| nam_adj | 7    | polską                                                                                     |\n",
      "| nam_adj | 7    | polskich                                                                                   |\n",
      "| nam_adj | 7    | mazowiecki                                                                                 |\n",
      "| nam_adj | 5    | europejskiej                                                                               |\n",
      "---------------------------------------------------------------------------------------------------------------\n",
      "| nam_oth | 293  | zł                                                                                         |\n",
      "| nam_oth | 89   | euro                                                                                       |\n",
      "| nam_oth | 41   | złotych                                                                                    |\n",
      "| nam_oth | 29   | EURO                                                                                       |\n",
      "| nam_oth | 14   | PESEL                                                                                      |\n",
      "| nam_oth | 12   | BAT                                                                                        |\n",
      "| nam_oth | 10   | PLN                                                                                        |\n",
      "| nam_oth | 8    | Minister Edukacji Narodowej                                                                |\n",
      "| nam_oth | 7    | NIP                                                                                        |\n",
      "| nam_oth | 7    | ECU                                                                                        |\n",
      "---------------------------------------------------------------------------------------------------------------\n",
      "| nam_liv | 51   | Kasa Chorych                                                                               |\n",
      "| nam_liv | 36   | Straży Granicznej                                                                          |\n",
      "| nam_liv | 24   | Sił Zbrojnych                                                                              |\n",
      "| nam_liv | 21   | Kasy Chorych                                                                               |\n",
      "| nam_liv | 18   | Art                                                                                        |\n",
      "| nam_liv | 18   | Pana                                                                                       |\n",
      "| nam_liv | 16   | Gospodarki Żywnościowej                                                                    |\n",
      "| nam_liv | 15   | Pan                                                                                        |\n",
      "| nam_liv | 15   | Krajowego Depozytu                                                                         |\n",
      "| nam_liv | 13   | Kas Chorych                                                                                |\n",
      "---------------------------------------------------------------------------------------------------------------\n",
      "| nam_eve | 5    | EURO                                                                                       |\n",
      "| nam_eve | 2    | Przejściowego Planu Krajowego                                                              |\n",
      "| nam_eve | 2    | Monitorze Sądowym                                                                          |\n",
      "| nam_eve | 1    | Europejskiej Karcie Społecznej                                                             |\n",
      "| nam_eve | 1    | Generalny Konserwator Zabytków                                                             |\n",
      "| nam_eve | 1    | Ochrony Roślin                                                                             |\n",
      "| nam_eve | 1    | Inspektora Nadzoru Wewnętrznego                                                            |\n",
      "| nam_eve | 1    | TOP SECRET                                                                                 |\n",
      "| nam_eve | 1    | Maksymalnym Limitem Pozostałości                                                           |\n",
      "| nam_eve | 1    | Maksymalne Limity Pozostałości                                                             |\n",
      "---------------------------------------------------------------------------------------------------------------\n",
      "| nam_fac | 49   | Inspektor Nadzoru Wewnętrznego                                                             |\n",
      "| nam_fac | 16   | Komendant Główny                                                                           |\n",
      "| nam_fac | 11   | Straży Granicznej                                                                          |\n",
      "| nam_fac | 8    | Mangan                                                                                     |\n",
      "| nam_fac | 6    | Obrony Narodowej                                                                           |\n",
      "| nam_fac | 5    | Krajowego Rejestru Karnego                                                                 |\n",
      "| nam_fac | 4    | Zatoki Gdańskiej                                                                           |\n",
      "| nam_fac | 4    | Molibden                                                                                   |\n",
      "| nam_fac | 4    | Zasłużonego Dawcy Przeszczepu                                                              |\n",
      "| nam_fac | 3    | Mn                                                                                         |\n",
      "---------------------------------------------------------------------------------------------------------------\n",
      "| nam_num | 13   | 1                                                                                          |\n",
      "| nam_num | 1    | 112                                                                                        |\n",
      "---------------------------------------------------------------------------------------------------------------\n"
     ]
    }
   ],
   "source": [
    "for category, entities in coarse_grained_class_entity_counter.items():\n",
    "    print('-'*111)\n",
    "    for entity, count in list(sorted(entities.items(), key=lambda pair: -pair[1]))[:10]:\n",
    "        print(f'| {category} | {str(count).ljust(4)} | {entity.ljust(90)} |')\n",
    "print('-'*111)"
   ]
  },
  {
   "cell_type": "markdown",
   "id": "auburn-improvement",
   "metadata": {},
   "source": [
    "## Display 50 most frequent Named Entities including their count and fine-grained type."
   ]
  },
  {
   "cell_type": "code",
   "execution_count": 246,
   "id": "representative-memphis",
   "metadata": {},
   "outputs": [
    {
     "name": "stderr",
     "output_type": "stream",
     "text": [
      "100%|██████████| 50/50 [00:37<00:00,  1.35it/s]\n"
     ]
    }
   ],
   "source": [
    "fine_grained_class_entity_counter = collections.defaultdict(int)\n",
    "\n",
    "for file in tqdm([file for file in os.listdir(RESULT_DIRECTORY) if file.endswith('.ccl')]):\n",
    "    annotations = ccl_ner(os.path.join(RESULT_DIRECTORY, file))\n",
    "    for annotation in annotations:\n",
    "        category = annotation.get_category()\n",
    "        entity = annotation.get_lemma()\n",
    "        fine_grained_class_entity_counter[(entity, category)] += 1"
   ]
  },
  {
   "cell_type": "code",
   "execution_count": 247,
   "id": "described-soviet",
   "metadata": {},
   "outputs": [
    {
     "name": "stdout",
     "output_type": "stream",
     "text": [
      "-----------------------------------------------------------------------------------------------------------\n",
      "| 1534 | Dz . U .                                                      | nam_pro_media_periodic           |\n",
      "| 812  | Rzeczypospolitej Polskiej                                     | nam_loc_gpe_country              |\n",
      "| 295  | Skarbu Państwa                                                | nam_org_institution              |\n",
      "| 293  | zł                                                            | nam_oth_currency                 |\n",
      "| 290  | Unii Europejskiej                                             | nam_org_organization             |\n",
      "| 261  | Rada Ministrów                                                | nam_org_institution              |\n",
      "| 233  | Minister Sprawiedliwości                                      | nam_org_institution              |\n",
      "| 213  | Prezes Rady Ministrów                                         | nam_org_institution              |\n",
      "| 205  | Państwowej Straży Pożarnej                                    | nam_org_organization             |\n",
      "| 162  | Minister Obrony Narodowej                                     | nam_org_institution              |\n",
      "| 152  | Minister Finansów                                             | nam_org_institution              |\n",
      "| 137  | Urzędu Ochrony Państwa                                        | nam_org_institution              |\n",
      "| 116  | polski                                                        | nam_adj_country                  |\n",
      "| 114  | EFTA                                                          | nam_org_organization             |\n",
      "| 110  | Państwowa Komisja Wyborcza                                    | nam_org_institution              |\n",
      "| 104  | Urząd Patentowy                                               | nam_org_institution              |\n",
      "| 103  | Europejskiego Porozumienia o Wolnym Handlu                    | nam_org_company                  |\n",
      "| 98   | Państwowej Komisji Wyborczej                                  | nam_org_institution              |\n",
      "| 98   | Skarb Państwa                                                 | nam_org_institution              |\n",
      "| 89   | euro                                                          | nam_oth_currency                 |\n",
      "| 88   | Prezes Urzędu                                                 | nam_org_institution              |\n",
      "| 81   | OKRĘG                                                         | nam_org_organization             |\n",
      "| 81   | Okręgowej Komisji Wyborczej                                   | nam_org_institution              |\n",
      "| 80   | Dz . Urz                                                      | nam_pro_media_periodic           |\n",
      "| 73   | Sejmu                                                         | nam_org_institution              |\n",
      "| 71   | Ordynacja podatkowa                                           | nam_pro_title_document           |\n",
      "| 71   | Prezesa Urzędu                                                | nam_org_institution              |\n",
      "| 70   | BSWSG                                                         | nam_org_organization             |\n",
      "| 64   | Kodeksu karnego                                               | nam_pro_title_document           |\n",
      "| 63   | Ministrem Obrony Narodowej                                    | nam_org_institution              |\n",
      "| 62   | Monitor Polski                                                | nam_pro_title                    |\n",
      "| 59   | Minister Zdrowia i Opieki Społecznej                          | nam_org_institution              |\n",
      "| 57   | Wspólnoty Europejskiej                                        | nam_org_organization             |\n",
      "| 55   | WE                                                            | nam_org_organization             |\n",
      "| 53   | Komisji Europejskiej                                          | nam_org_institution              |\n",
      "| 53   | Sąd Najwyższy                                                 | nam_org_institution              |\n",
      "| 52   | Rzeczpospolita Polska                                         | nam_loc_gpe_country              |\n",
      "| 52   | Ministra Sprawiedliwości                                      | nam_org_institution              |\n",
      "| 51   | Dzienniku Urzędowym Rzeczypospolitej Polskiej \"               | nam_org_institution              |\n",
      "| 51   | Polsce                                                        | nam_loc_gpe_country              |\n",
      "| 51   | Kasa Chorych                                                  | nam_liv_person                   |\n",
      "| 51   | Sądu Najwyższego                                              | nam_org_institution              |\n",
      "| 51   | Spraw Wewnętrznych                                            | nam_pro_title                    |\n",
      "| 49   | Inspektor Nadzoru Wewnętrznego                                | nam_fac_goe                      |\n",
      "| 49   | Senatu                                                        | nam_org_institution              |\n",
      "| 48   | Biura Ochrony Rządu                                           | nam_org_institution              |\n",
      "| 47   | Prezes Urzędu Regulacji Energetyki                            | nam_org_institution              |\n",
      "| 44   | Państwową Komisję Wyborczą                                    | nam_org_institution              |\n",
      "| 44   | Straży Granicznej                                             | nam_org_institution              |\n",
      "| 43   | Inspekcji Weterynaryjnej                                      | nam_org_institution              |\n",
      "-----------------------------------------------------------------------------------------------------------\n"
     ]
    }
   ],
   "source": [
    "sorted_fine_grained_class_entity_counter = sorted(\n",
    "    fine_grained_class_entity_counter.items(),\n",
    "    key=lambda pair: -pair[1]\n",
    ")\n",
    "\n",
    "print('-'*107)\n",
    "for entity, count in sorted_fine_grained_class_entity_counter[:50]:\n",
    "    entity, category = entity\n",
    "    print(f'| {str(count).ljust(4)} | {entity.ljust(62)}| {category.ljust(32)} |')\n",
    "print('-'*107)"
   ]
  },
  {
   "cell_type": "code",
   "execution_count": 271,
   "id": "interior-windows",
   "metadata": {},
   "outputs": [
    {
     "name": "stdout",
     "output_type": "stream",
     "text": [
      "-----------------------------------------------------------------------------------------------------------\n",
      "| 6    | M                                                             | nam_liv_person                   |\n",
      "| 1    | 7                                                             | nam_loc_gpe_admin1               |\n",
      "| 1    | L                                                             | nam_liv_person                   |\n",
      "| 1    | Q                                                             | nam_org_organization             |\n",
      "| 2    | V                                                             | nam_liv_person                   |\n",
      "| 5    | V                                                             | nam_org_organization             |\n",
      "| 13   | 1                                                             | nam_num_house                    |\n",
      "| 2    | V                                                             | nam_oth_tech                     |\n",
      "| 1    | M                                                             | nam_org_organization             |\n",
      "| 2    | X                                                             | nam_fac_goe                      |\n",
      "-----------------------------------------------------------------------------------------------------------\n"
     ]
    }
   ],
   "source": [
    "sorted_fine_grained_class_entity_counter = sorted(\n",
    "    fine_grained_class_entity_counter.items(),\n",
    "    key=lambda pair: len(pair[0][0])\n",
    ")\n",
    "\n",
    "print('-'*107)\n",
    "for entity, count in sorted_fine_grained_class_entity_counter[:10]:\n",
    "    entity, category = entity\n",
    "    print(f'| {str(count).ljust(4)} | {entity.ljust(62)}| {category.ljust(32)} |')\n",
    "print('-'*107)"
   ]
  },
  {
   "cell_type": "code",
   "execution_count": 272,
   "id": "capital-virtue",
   "metadata": {},
   "outputs": [
    {
     "name": "stdout",
     "output_type": "stream",
     "text": [
      "-----------------------------------------------------------------------------------------------------------\n",
      "| 2    | ustawy z dnia 11 kwietnia 1997 r . o ujawnieniu pracy lub służby w organach bezpieczeństwa państwa lub współpracy z nimi w latach 1944 - 1990 osób pełniących funkcje publiczne| nam_pro_title_document           |\n",
      "| 2    | ustawie z dnia 28 grudnia 1989 r . o szczególnych zasadach rozwiązywania z pracownikami stosunków pracy z przyczyn dotyczących zakładu pracy oraz o zmianie niektórych ustaw| nam_pro_title_document           |\n",
      "| 1    | ustawy z dnia 29 lipca 2005 r . o ofercie publicznej i warunkach wprowadzania instrumentów finansowych do zorganizowanego systemu obrotu oraz o spółkach publicznych| nam_pro_title_document           |\n",
      "| 1    | ustawie z dnia 25 maja 2001 r . o przebudowie i modernizacji technicznej oraz finansowaniu Sił Zbrojnych Rzeczypospolitej Polskiej w latach 2001 - 2006| nam_pro_title_document           |\n",
      "| 1    | ustawy o ujawnieniu pracy lub służby w organach bezpieczeństwa państwa lub współpracy z nimi w latach 1944 - 1990 osób pełniących funkcje publiczne| nam_pro_title_document           |\n",
      "| 1    | rozporządzeniu Rady ( WE ) nr 2073 / 2004 z dnia 16 listopada 2004 r . w sprawie współpracy administracyjnej w dziedzinie podatków akcyzowych| nam_pro_title_document           |\n",
      "| 1    | ustawa z dnia 7 października 1991 r . o rewaloryzacji emerytur i rent , o zasadach ustalania emerytur i rent oraz o zmianie niektórych ustaw| nam_pro_title_document           |\n",
      "| 1    | + - - - - - - - - - - - - - - - - - - - + - - - - - - - - - - - - - - - - - - - + - - - - - - - - - - - - - - - - - - - - - - - - - +| nam_oth_tech                     |\n",
      "| 1    | ustawie z dnia 20 czerwca 1992 r . o uprawnieniach do bezpłatnych i ulgowych przejazdów środkami publicznego transportu zbiorowego| nam_pro_title_document           |\n",
      "| 2    | ustawy z dnia 9 listopada 2000 r . o zmianie ustawy o podatku dochodowym od osób fizycznych oraz o zmianie niektórych innych ustaw| nam_pro_title_document           |\n",
      "-----------------------------------------------------------------------------------------------------------\n"
     ]
    }
   ],
   "source": [
    "sorted_fine_grained_class_entity_counter = sorted(\n",
    "    fine_grained_class_entity_counter.items(),\n",
    "    key=lambda pair: -len(pair[0][0])\n",
    ")\n",
    "\n",
    "print('-'*107)\n",
    "for entity, count in sorted_fine_grained_class_entity_counter[:10]:\n",
    "    entity, category = entity\n",
    "    print(f'| {str(count).ljust(4)} | {entity.ljust(62)}| {category.ljust(32)} |')\n",
    "print('-'*107)"
   ]
  },
  {
   "cell_type": "code",
   "execution_count": 282,
   "id": "bronze-growth",
   "metadata": {},
   "outputs": [
    {
     "name": "stdout",
     "output_type": "stream",
     "text": [
      "-----------------------------------------------------------------------------------------------------------\n",
      "| 4    | Ordynacja wyborcza do Sejmu Rzeczypospolitej Polskiej         | nam_pro_title_document           |\n",
      "| 812  | Rzeczypospolitej Polskiej                                     | nam_loc_gpe_country              |\n",
      "| 51   | Dzienniku Urzędowym Rzeczypospolitej Polskiej \"               | nam_org_institution              |\n",
      "| 4    | Kancelarii Prezydenta Rzeczypospolitej Polskiej               | nam_org_institution              |\n",
      "| 2    | Kancelaria Prezydenta Rzeczypospolitej Polskiej               | nam_org_institution              |\n",
      "| 1    | Kancelaria Prezydenta Rzeczypospolitej Polskiej przesyła Prezesowi Urzędu do Spraw Repatriacji i Cudzoziemców| nam_org_institution              |\n",
      "| 4    | Dzienniku Ustaw Rzeczypospolitej Polskiej jednolity           | nam_org_institution              |\n",
      "| 21   | Prezydenta Rzeczypospolitej Polskiej                          | nam_org_institution              |\n",
      "| 10   | Prezydent Rzeczypospolitej Polskiej                           | nam_org_institution              |\n",
      "| 1    | Prezydenta Rzeczypospolitej Polskiej o                        | nam_org_institution              |\n",
      "-----------------------------------------------------------------------------------------------------------\n"
     ]
    }
   ],
   "source": [
    "sorted_fine_grained_class_entity_counter = [ent for ent in fine_grained_class_entity_counter.items() if \"Rzeczyp\" in ent[0][0]]\n",
    "\n",
    "print('-'*107)\n",
    "for entity, count in sorted_fine_grained_class_entity_counter[:10]:\n",
    "    entity, category = entity\n",
    "    print(f'| {str(count).ljust(4)} | {entity.ljust(62)}| {category.ljust(32)} |')\n",
    "print('-'*107)\n",
    "\n",
    "# print(sorted_fine_grained_class_entity_counter)"
   ]
  },
  {
   "cell_type": "markdown",
   "id": "boxed-spelling",
   "metadata": {},
   "source": [
    "## Answer the following questions:\n",
    "### Which of the method (counting expressions with capital letters vs. NER) worked better for the task concerned with identification of the proper names?\n",
    "\n",
    "Pierwszy, \"prymitywny\" sposób daje niezłe efekty - znajduje poprawne nazwy (\"Rada Minister\", \"Obrona Narodowy\"), oprócz tego jendak znajduje też wyrazy, które raczej nazwami nie są (np. \"Numer\", który był najczęściej występującą frazą, \"Kodeks\" (który w części przypadków był częścią nazwy, przykładowo \"Kodeks karny\",) czy liczby zapisane przy pomocy cyfr rzymskich). \n",
    "\n",
    "Jednak NER spisał się lepiej - większość znalezionych nazw jest faktycznie poprawnymi nazwami. Co więcej, znajduje nie tylko nazwy zaczynające się od wielkiej litery (np. zł czy euro - nazwy walut są pisane małymi literami), a również skróty od nazw (Dz. U.). Nie ucina też nazw, gdzie któryś człon pisany jest małą literą (Minister Zdrowia i Opieki Społecznej). Znajduje też nazwy ustaw i traktuje je jako tytuły.\n",
    "\n",
    "### What are the drawbacks of the method based on capital letters?\n",
    "\n",
    "- nie znajduje nazw, w których pojawiają się małe litery, znaki interpunkcyjne lub cyfry (euro, Mnister Zdrowia i Opieki Społecznej)\n",
    "- znajduje pojedyńcze litery\n",
    "- zależy od implementacji, ale jeśli bierzemy pod uwagę tylko wyrazy nie rozpoczynające zdania, to pomijamy nazwy, które zdanie rozpoczynają\n",
    "- nie mamy przyporządkowań do kategorii\n",
    "\n",
    "\n",
    "### What are the drawbacks of the method based on NER?\n",
    "- również znajduje pojedyńcze litery (w sumie dzięki kategoriom można próbować się domyślać, że może były skrótem od imienia, np. A w A. Nowak)\n",
    "- znajduje samotne cyfry\n",
    "- znajduje tę samą nazwę z tą samą kategorią w innym przypadku i traktuje je jako różne nazwy (Prezydent Rzeczypospolitej Polskiej, Prezydenta Rzeczypospolitej Polskiej)\n",
    "- czasem dorzuca słowa, znaki interpunkcyjne lub litery na koniec nazwy (Prezydent Rzeczypospolitej o)\n",
    "- znajduje części dłuższych nazw ('Spraw Wewnętrznych')\n",
    "\n",
    "\n",
    "### Which of the coarse-grained NER groups has the best and which has the worst results? Try to justify this observation.\n",
    "\n",
    "- nam_adj – przymiotniki pochodzące od nazw własnych, ta kategoria wypadła słabo, top 10 to właściwie odmiana przymiotnika 'polski'. 'Wojewódzki' może by się obroniło jako nazwisko, ale w rzeczywistości jest to pewnie część nazwy (np. Sąd Wojewódzki)\n",
    "- nam_eve – wydarzenia organizowane lub ustalone przez ludzi oraz klęski żywiołowe, wydaje mi się, że z wypisanych wyników do tej definicji pasuje tylko 'EURO' i może 'Przejściowy Plan Krajowy', pozostałe pasowałyby bardziej do innych kategorii, ale przynajmniej w większości są to nazwy własne (poza Ochrony Roślin, które jest pewnie częścią dłuższej nazwy). W dodatku znajdują się tu encje, które wystąpiły niewiele razy w tekście, być może przez to są trudniejsze do zakwalifikowania)\n",
    "- nam_fac – konstrukcje (budowle, budynki, pomniki) stworzone przez ludzi - żaden z 10 najczęściej występujących tekstów nie pasuje do definicji, część to nazy pierwiastków, część stanowisk (Komendant Główny, może przez pokrewieństwo z Komendą Główną), Zatoka Gdańska jest miejscem, ale bardziej pasuje do nam_loc. \n",
    "- nam_liv – istoty żywe (ludzie, postacie, zwierzęta), tylko \"Pan\" i \"Pana\" pasuje. Może jeszcze \"Straży Granicznej\" było częścią np. \"Komendant Straży Granicznej\", ale reszta nie pasuje. Część z nam_fac powinna znaleźć się właśnie tu\n",
    "- nam_loc – toponimy (lokalizacje, jednostki geopolityczne i geograficzne), poza nawozem i powtarzającą się \"Rzeczpospolitą Polską\" w różnych odmianach nie ma się do czego przyczepić\n",
    "- nam_num – wyrażenia liczbowe, wystąpiły tylko 1 i 112. 112 faktycznie jest znaczeniową jednostką, jednoznacznie kojarzy się z wezwaniem pomocy, 1- ciężko mi określić poprawność tego bez kontekstu. W każdym razie na pewno pasują do kategorii\n",
    "- nam_org – organizacje, instytucje, zespoły, zorganizowane grupy itd., większość znalezionych nazw pasuje, może niektóre nazwy (jak Prezes Rady Ministrów) powinny trafić do kategorii nam_liv, ale jest nieźle. W dodatku propozycje są różnorodne. Tych nazw było najwięcej, co pasuje do korpusu.\n",
    "- nam_oth – nazwy technologii, walut, adres e-mail, strony www, itd. - Minister Edukacji Narodowej mógłby trafić do innej kategorii, ale ogólnie rzecz biorąc jest w porządku - głównie waluty i skrótowce (PESEL, NIP)\n",
    "- nam_pro – chrematonimy (wytwory ludzkie) - myślę, że dziennik ustaw i różne kodeksy wpisują się w tę kategorię. Program Natura2000 chyba tu pasuje, ewentualnie można by się zastanowić czy nie pasuje bardziej do nam_eve. Jedynie 'Spraw Wewnętrznych' jest częścią dłuższej nazwy i tu nie pasuje. \n",
    "\n",
    "\n",
    "Najlepiej wypadły: nam_org, nam_oth, nam_pro\n",
    "\n",
    "Najgorzej: nam_adj, nam_eve, nam_fac - nam_fac najgorzej\n",
    "\n",
    "### Do you think NER is sufficient for identifying different occurrences of the same entity (i.e. consider \"USA\" and \"Stany Zjednoczone\" and \"Stany Zjednoczone Ameryki Północnej\")? If not, can you suggest an algorithm or a tool that would be able to group such names together?\n",
    "\n",
    "Na pewno najpierw przydałoby się zająć tym, żeby NER traktował różne przypadki jednej nazwy jako jedną nazwę. Ale nawet z tym ciężko mi sobie wyobrazić, żeby dobrze pogrupował te nazwy jako synonimy, skoro problem jest nawet z dopasowaniem do kategorii znaczeniowych. Algorytmy, które grupują synonimy to przykładowo WordNet i Word2Vec, który opiera się na bliskości znaczeniowej (bliskości wyrazów).\n",
    "\n",
    "### Can you think of a real world problem that would benefit the most from application of Named Entity Recognition algorithm?\n",
    "- systemy rekomendacyjne - przykładowo z opinii o książkach/filmach można by wyciągać te, do których odnosi się osoba opiniująca; śledzenie wiadomości mogłoby dać wtedy dobre podpowiedzi do proponowanych produktów... creepy...\n",
    "- określanie o czym jest dany tekst\n"
   ]
  },
  {
   "cell_type": "code",
   "execution_count": null,
   "id": "utility-salad",
   "metadata": {},
   "outputs": [],
   "source": []
  }
 ],
 "metadata": {
  "kernelspec": {
   "display_name": "Python 3",
   "language": "python",
   "name": "python3"
  },
  "language_info": {
   "codemirror_mode": {
    "name": "ipython",
    "version": 3
   },
   "file_extension": ".py",
   "mimetype": "text/x-python",
   "name": "python",
   "nbconvert_exporter": "python",
   "pygments_lexer": "ipython3",
   "version": "3.8.5"
  }
 },
 "nbformat": 4,
 "nbformat_minor": 5
}
