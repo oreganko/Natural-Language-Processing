{
 "cells": [
  {
   "cell_type": "markdown",
   "id": "cd99b430",
   "metadata": {},
   "source": [
    "# Full text search (FTS)"
   ]
  },
  {
   "cell_type": "markdown",
   "id": "a1d2c6e9",
   "metadata": {},
   "source": [
    "In most cases I use brilliant `restmagic` library with Jupyter Notebook magicks, because:\n",
    "- it's very easy to use and similar to `curl`\n",
    "- a lot less hassle than `requests` with conversion of dicts to JSONs\n",
    "- I could not get Elasticsearch Python client working"
   ]
  },
  {
   "cell_type": "code",
   "execution_count": 1,
   "id": "b96146c1",
   "metadata": {},
   "outputs": [],
   "source": [
    "import json\n",
    "import os\n",
    "import re\n",
    "\n",
    "import requests\n",
    "\n",
    "%reload_ext restmagic"
   ]
  },
  {
   "cell_type": "markdown",
   "id": "6e228b22",
   "metadata": {},
   "source": [
    "With the configuration below I will only have to specify endpoint for Elasticsearch - the URL base/root will be set automatically.\n",
    "\n",
    "The results of each query will be available in the `_` variable."
   ]
  },
  {
   "cell_type": "code",
   "execution_count": 2,
   "id": "0ba23ebf",
   "metadata": {},
   "outputs": [
    {
     "name": "stdout",
     "output_type": "stream",
     "text": [
      "Requests defaults are set.\n"
     ]
    }
   ],
   "source": [
    "%%rest_root \"http://localhost:9200/\"\n",
    "Content-Type: application/json"
   ]
  },
  {
   "cell_type": "markdown",
   "id": "fd86d7bc",
   "metadata": {},
   "source": [
    "## Setup, data loading"
   ]
  },
  {
   "cell_type": "markdown",
   "id": "ec3eee4b",
   "metadata": {},
   "source": [
    "Define an ES analyzer for Polish texts containing:\n",
    "- standard tokenizer\n",
    "- synonym filter with the following definitions:\n",
    "  - kpk - kodeks postępowania karnego\n",
    "  - kpc - kodeks postępowania cywilnego\n",
    "  - kk - kodeks karny\n",
    "  - kc - kodeks cywilny\n",
    "- Morfologik-based lemmatizer\n",
    "- lowercase filter\n",
    "\n",
    "At the same time I define the index with `content` field with bills' contents."
   ]
  },
  {
   "cell_type": "code",
   "execution_count": 3,
   "id": "ffac00e3",
   "metadata": {},
   "outputs": [
    {
     "data": {
      "text/plain": [
       "<Response [200]>"
      ]
     },
     "execution_count": 3,
     "metadata": {},
     "output_type": "execute_result"
    }
   ],
   "source": [
    "%rest -q DELETE \"bills\""
   ]
  },
  {
   "cell_type": "code",
   "execution_count": 4,
   "id": "82f94d71",
   "metadata": {},
   "outputs": [
    {
     "data": {
      "text/plain": [
       "{\n",
       "  \"acknowledged\": true,\n",
       "  \"shards_acknowledged\": true,\n",
       "  \"index\": \"bills\"\n",
       "}"
      ]
     },
     "metadata": {},
     "output_type": "display_data"
    },
    {
     "data": {
      "text/plain": [
       "<Response [200]>"
      ]
     },
     "execution_count": 4,
     "metadata": {},
     "output_type": "execute_result"
    }
   ],
   "source": [
    "%%rest PUT \"bills\"\n",
    "\n",
    "{\n",
    "  \"settings\": {\n",
    "    \"index\": {\n",
    "      \"analysis\": {\n",
    "        \"analyzer\": {\n",
    "          \"bills_analyzer\": {\n",
    "            \"tokenizer\": \"standard\",\n",
    "            \"filter\": [\n",
    "              \"lowercase\",\n",
    "              \"graph_synonyms\",\n",
    "              \"morfologik_stem\"\n",
    "            ]\n",
    "          }\n",
    "        },\n",
    "        \"filter\": {\n",
    "          \"graph_synonyms\": {\n",
    "            \"type\": \"synonym_graph\",\n",
    "            \"synonyms\": [\n",
    "              \"kpk, kodeks postępowania karnego\",\n",
    "              \"kpc, kodeks postępowania cywilnego\",\n",
    "              \"kk, kodeks karny\",\n",
    "              \"kc, kodeks cywilny\"\n",
    "            ]\n",
    "          }\n",
    "        }\n",
    "      }\n",
    "    }\n",
    "  },\n",
    "    \n",
    "  \"mappings\": {\n",
    "    \"properties\": {\n",
    "      \"content\": {\n",
    "        \"type\": \"text\",\n",
    "        \"analyzer\": \"bills_analyzer\"\n",
    "      }\n",
    "    }\n",
    "  }\n",
    "}\n"
   ]
  },
  {
   "cell_type": "markdown",
   "id": "403c61cd",
   "metadata": {},
   "source": [
    "Check whether it works:"
   ]
  },
  {
   "cell_type": "code",
   "execution_count": 5,
   "id": "8f074835",
   "metadata": {
    "scrolled": true
   },
   "outputs": [
    {
     "data": {
      "text/plain": [
       "{\n",
       "  \"tokens\": [\n",
       "    {\n",
       "      \"token\": \"ustawa\",\n",
       "      \"start_offset\": 0,\n",
       "      \"end_offset\": 6,\n",
       "      \"type\": \"<ALPHANUM>\",\n",
       "      \"position\": 0\n",
       "    },\n",
       "    {\n",
       "      \"token\": \"o\",\n",
       "      \"start_offset\": 7,\n",
       "      \"end_offset\": 8,\n",
       "      \"type\": \"<ALPHANUM>\",\n",
       "      \"position\": 1\n",
       "    },\n",
       "    {\n",
       "      \"token\": \"ocean\",\n",
       "      \"start_offset\": 7,\n",
       "      \"end_offset\": 8,\n",
       "      \"type\": \"<ALPHANUM>\",\n",
       "      \"position\": 1\n",
       "    },\n",
       "    {\n",
       "      \"token\": \"ojciec\",\n",
       "      \"start_offset\": 7,\n",
       "      \"end_offset\": 8,\n",
       "      \"type\": \"<ALPHANUM>\",\n",
       "      \"position\": 1\n",
       "    },\n",
       "    {\n",
       "      \"token\": \"kodeks\",\n",
       "      \"start_offset\": 9,\n",
       "      \"end_offset\": 11,\n",
       "      \"type\": \"SYNONYM\",\n",
       "      \"position\": 2\n",
       "    },\n",
       "    {\n",
       "      \"token\": \"kodeks karny\",\n",
       "      \"start_offset\": 9,\n",
       "      \"end_offset\": 11,\n",
       "      \"type\": \"<ALPHANUM>\",\n",
       "      \"position\": 2,\n",
       "      \"positionLength\": 2\n",
       "    },\n",
       "    {\n",
       "      \"token\": \"karny\",\n",
       "      \"start_offset\": 9,\n",
       "      \"end_offset\": 11,\n",
       "      \"type\": \"SYNONYM\",\n",
       "      \"position\": 3\n",
       "    },\n",
       "    {\n",
       "      \"token\": \"i\",\n",
       "      \"start_offset\": 12,\n",
       "      \"end_offset\": 13,\n",
       "      \"type\": \"<ALPHANUM>\",\n",
       "      \"position\": 4\n",
       "    },\n",
       "    {\n",
       "      \"token\": \"niektóry\",\n",
       "      \"start_offset\": 14,\n",
       "      \"end_offset\": 24,\n",
       "      \"type\": \"<ALPHANUM>\",\n",
       "      \"position\": 5\n",
       "    },\n",
       "    {\n",
       "      \"token\": \"inny\",\n",
       "      \"start_offset\": 25,\n",
       "      \"end_offset\": 31,\n",
       "      \"type\": \"<ALPHANUM>\",\n",
       "      \"position\": 6\n",
       "    },\n",
       "    {\n",
       "      \"token\": \"ustawa\",\n",
       "      \"start_offset\": 32,\n",
       "      \"end_offset\": 40,\n",
       "      \"type\": \"<ALPHANUM>\",\n",
       "      \"position\": 7\n",
       "    }\n",
       "  ]\n",
       "}"
      ]
     },
     "metadata": {},
     "output_type": "display_data"
    },
    {
     "data": {
      "text/plain": [
       "<Response [200]>"
      ]
     },
     "execution_count": 5,
     "metadata": {},
     "output_type": "execute_result"
    }
   ],
   "source": [
    "%%rest GET \"bills/_analyze\"\n",
    "\n",
    "{\n",
    "    \"analyzer\": \"bills_analyzer\",\n",
    "    \"text\": \"Ustawa o KK i niektórych innych ustawach\"\n",
    "}"
   ]
  },
  {
   "cell_type": "markdown",
   "id": "6c206460",
   "metadata": {},
   "source": [
    "Mostly works well, with a few interesting things, e.g. \"o\" resulted in: o, ocean, ojciec."
   ]
  },
  {
   "cell_type": "markdown",
   "id": "aaf61fce",
   "metadata": {},
   "source": [
    "Loading the data is easier with requests due to the loop-based nature of the operation. Filenames (without `.txt`) will be used as document IDs."
   ]
  },
  {
   "cell_type": "code",
   "execution_count": 6,
   "id": "03574b64",
   "metadata": {},
   "outputs": [],
   "source": [
    "data_dir = \"corpus\"\n",
    "files = os.listdir(data_dir)\n",
    "\n",
    "for filename in files:\n",
    "    filepath = os.path.join(data_dir, filename)\n",
    "    with open(filepath, encoding=\"UTF-8\") as file:\n",
    "        content = file.read()\n",
    "    \n",
    "    text_id = filename.split(\".\")[0]\n",
    "    \n",
    "    requests.put(f\"http://localhost:9200/bills/_doc/{text_id}\", json={\"content\": content})\n"
   ]
  },
  {
   "cell_type": "markdown",
   "id": "20053424",
   "metadata": {},
   "source": [
    "## Counting legislative acts with _ustawa_"
   ]
  },
  {
   "cell_type": "markdown",
   "id": "6aaf0157",
   "metadata": {},
   "source": [
    "Determine the number of legislative acts containing the word _ustawa_ (in any form)."
   ]
  },
  {
   "cell_type": "markdown",
   "id": "397673d6",
   "metadata": {},
   "source": [
    "Here I use Search API with `hits.total.value` filter, since I want the total number of documents that the word was found in."
   ]
  },
  {
   "cell_type": "code",
   "execution_count": 7,
   "id": "ad9bc6a1",
   "metadata": {
    "scrolled": false
   },
   "outputs": [
    {
     "data": {
      "text/plain": [
       "{\n",
       "  \"hits\": {\n",
       "    \"total\": {\n",
       "      \"value\": 1178\n",
       "    }\n",
       "  }\n",
       "}"
      ]
     },
     "metadata": {},
     "output_type": "display_data"
    },
    {
     "data": {
      "text/plain": [
       "<Response [200]>"
      ]
     },
     "execution_count": 7,
     "metadata": {},
     "output_type": "execute_result"
    }
   ],
   "source": [
    "%%rest GET \"bills/_search?filter_path=hits.total.value\"\n",
    "\n",
    "{\n",
    "  \"query\": {\n",
    "    \"match\": {\n",
    "      \"content\": \"ustawa\"\n",
    "    }\n",
    "  }\n",
    "}"
   ]
  },
  {
   "cell_type": "markdown",
   "id": "d07d35e4",
   "metadata": {},
   "source": [
    "Interestingly, we have 1179 files and 1178 of them contain the word _ustawa_, so there is just one file that does not. I decided to check it out of curiosity."
   ]
  },
  {
   "cell_type": "code",
   "execution_count": 8,
   "id": "16713b0f",
   "metadata": {
    "scrolled": true
   },
   "outputs": [
    {
     "data": {
      "text/plain": [
       "{\n",
       "  \"took\": 5,\n",
       "  \"timed_out\": false,\n",
       "  \"_shards\": {\n",
       "    \"total\": 1,\n",
       "    \"successful\": 1,\n",
       "    \"skipped\": 0,\n",
       "    \"failed\": 0\n",
       "  },\n",
       "  \"hits\": {\n",
       "    \"total\": {\n",
       "      \"value\": 1,\n",
       "      \"relation\": \"eq\"\n",
       "    },\n",
       "    \"max_score\": 0.0,\n",
       "    \"hits\": [\n",
       "      {\n",
       "        \"_index\": \"bills\",\n",
       "        \"_type\": \"_doc\",\n",
       "        \"_id\": \"1996_400\",\n",
       "        \"_score\": 0.0,\n",
       "        \"_source\": {\n",
       "          \"content\": \"\\n\\n\\n\\n\\nBrak tekstu w postaci elektronicznej \\n\"\n",
       "        }\n",
       "      }\n",
       "    ]\n",
       "  }\n",
       "}"
      ]
     },
     "metadata": {},
     "output_type": "display_data"
    },
    {
     "data": {
      "text/plain": [
       "<Response [200]>"
      ]
     },
     "execution_count": 8,
     "metadata": {},
     "output_type": "execute_result"
    }
   ],
   "source": [
    "%%rest GET \"bills/_search\"\n",
    "\n",
    "{\n",
    "  \"query\": {\n",
    "    \"bool\": {\n",
    "      \"must_not\": {\n",
    "        \"match\": {\n",
    "          \"content\": \"ustawa\"\n",
    "        }\n",
    "      }\n",
    "    }\n",
    "  }\n",
    "}\n"
   ]
  },
  {
   "cell_type": "markdown",
   "id": "987bbdd1",
   "metadata": {},
   "source": [
    "So that one file just has no text."
   ]
  },
  {
   "cell_type": "markdown",
   "id": "54ba4c93",
   "metadata": {},
   "source": [
    "## Counting _ustawa_ occurrences"
   ]
  },
  {
   "cell_type": "markdown",
   "id": "956d6b21",
   "metadata": {},
   "source": [
    "Determine the number of occurrences of the word _ustawa_ (in any form).\n",
    "\n",
    "Determine the number of occurrences of the word _ustaw_ (in any form)."
   ]
  },
  {
   "cell_type": "markdown",
   "id": "b9c576f3",
   "metadata": {},
   "source": [
    "Obviously for full-text search engine like ES the both searches should return exactly the same number of hits.\n",
    "\n",
    "I researched 3 possible solutions for this:\n",
    "- count (Search API) with aggregation\n",
    "- scripting (using Painless language)\n",
    "- term vectors API\n",
    "\n",
    "I rejected the first solution, since it requires dynamic mappings introduced in Elasticsearch 7.11 (Morfologik requires ES 7.10), see [this answer to my question on StackOverflow regarding this task](https://stackoverflow.com/a/69731030/9472066). However, it should be noted that this is the only universal solution that would work in production environment (e.g. many replicas, many shards, large indexes).\n",
    "\n",
    "Scripting turned out to be hard and didn't work well with text field.\n",
    "\n",
    "Term vectors API actually does what is needed here. For given document it returns counts of each word, but not only in that text, since for each word we also get `\"ttf\"` field. It stands for Total Term Frequency, i.e. number of occurrences of that word in the entire index. However, there are 2 caveats with this approach:\n",
    "- it only works for a single shard and there is no way to do a single Elasticsearch query across many shards, i.e. if we had multiple shards, we would have to do a loop in Python; this is not a problem here, since we have just a single shard (default behavior since Elasticsearch 7.X)\n",
    "- there is no easy way to specify the particular word that we want count of, instead we have to use [\"artificial documents\" mechanism](https://www.elastic.co/guide/en/elasticsearch/reference/current/docs-termvectors.html#docs-termvectors-artificial-doc), providing an artificial document with just the word we want counted in the index; note that the word from artificial document will **not** be included in this count (which is good)\n",
    "\n",
    "The last solution is also the most efficient one:\n",
    "- count with aggregation takes about 10x longer\n",
    "- scripting requires re-inverting the index, which takes a lot of memory"
   ]
  },
  {
   "cell_type": "code",
   "execution_count": 20,
   "id": "cd008e77",
   "metadata": {
    "scrolled": true
   },
   "outputs": [
    {
     "data": {
      "text/plain": [
       "{\n",
       "  \"_index\": \"bills\",\n",
       "  \"_type\": \"_doc\",\n",
       "  \"_version\": 0,\n",
       "  \"found\": true,\n",
       "  \"took\": 0,\n",
       "  \"term_vectors\": {\n",
       "    \"content\": {\n",
       "      \"terms\": {\n",
       "        \"ustawa\": {\n",
       "          \"doc_freq\": 1178,\n",
       "          \"ttf\": 24934,\n",
       "          \"term_freq\": 1\n",
       "        }\n",
       "      }\n",
       "    }\n",
       "  }\n",
       "}"
      ]
     },
     "metadata": {},
     "output_type": "display_data"
    },
    {
     "data": {
      "text/plain": [
       "<Response [200]>"
      ]
     },
     "execution_count": 20,
     "metadata": {},
     "output_type": "execute_result"
    }
   ],
   "source": [
    "%%rest GET \"bills/_termvectors\"\n",
    "\n",
    "{\n",
    "  \"doc\" : {\n",
    "    \"content\": \"ustawa\"\n",
    "  },\n",
    "  \"offsets\": false,\n",
    "  \"positions\": false,\n",
    "  \"field_statistics\": false,\n",
    "  \"term_statistics\": true\n",
    "}"
   ]
  },
  {
   "cell_type": "code",
   "execution_count": 21,
   "id": "4132206d",
   "metadata": {},
   "outputs": [
    {
     "data": {
      "text/plain": [
       "{\n",
       "  \"_index\": \"bills\",\n",
       "  \"_type\": \"_doc\",\n",
       "  \"_version\": 0,\n",
       "  \"found\": true,\n",
       "  \"took\": 0,\n",
       "  \"term_vectors\": {\n",
       "    \"content\": {\n",
       "      \"terms\": {\n",
       "        \"ustawa\": {\n",
       "          \"doc_freq\": 1178,\n",
       "          \"ttf\": 24934,\n",
       "          \"term_freq\": 1\n",
       "        },\n",
       "        \"ustawić\": {\n",
       "          \"doc_freq\": 378,\n",
       "          \"ttf\": 913,\n",
       "          \"term_freq\": 1\n",
       "        }\n",
       "      }\n",
       "    }\n",
       "  }\n",
       "}"
      ]
     },
     "metadata": {},
     "output_type": "display_data"
    },
    {
     "data": {
      "text/plain": [
       "<Response [200]>"
      ]
     },
     "execution_count": 21,
     "metadata": {},
     "output_type": "execute_result"
    }
   ],
   "source": [
    "%%rest GET \"bills/_termvectors\"\n",
    "\n",
    "{\n",
    "  \"doc\" : {\n",
    "    \"content\": \"ustaw\"\n",
    "  },\n",
    "  \"offsets\": false,\n",
    "  \"positions\": false,\n",
    "  \"field_statistics\": false,\n",
    "  \"term_statistics\": true\n",
    "}"
   ]
  },
  {
   "cell_type": "code",
   "execution_count": 22,
   "id": "834c9e22",
   "metadata": {},
   "outputs": [
    {
     "data": {
      "text/plain": [
       "24934"
      ]
     },
     "execution_count": 22,
     "metadata": {},
     "output_type": "execute_result"
    }
   ],
   "source": [
    "_.json()[\"term_vectors\"][\"content\"][\"terms\"][\"ustawa\"][\"ttf\"]"
   ]
  },
  {
   "cell_type": "markdown",
   "id": "4ac42856",
   "metadata": {},
   "source": [
    "Counts for _ustawa_ and _ustaw_ are the same, which is the expected behavior. We can also see that Elasticsearch's analyzer turned _ustaw_ into basic form _ustawa_ using Morfologik."
   ]
  },
  {
   "cell_type": "markdown",
   "id": "8f357914",
   "metadata": {},
   "source": [
    "## "
   ]
  },
  {
   "cell_type": "code",
   "execution_count": null,
   "id": "6759c30c",
   "metadata": {},
   "outputs": [],
   "source": []
  }
 ],
 "metadata": {
  "kernelspec": {
   "display_name": "Python 3",
   "language": "python",
   "name": "python3"
  },
  "language_info": {
   "codemirror_mode": {
    "name": "ipython",
    "version": 3
   },
   "file_extension": ".py",
   "mimetype": "text/x-python",
   "name": "python",
   "nbconvert_exporter": "python",
   "pygments_lexer": "ipython3",
   "version": "3.8.13"
  }
 },
 "nbformat": 4,
 "nbformat_minor": 5
}
