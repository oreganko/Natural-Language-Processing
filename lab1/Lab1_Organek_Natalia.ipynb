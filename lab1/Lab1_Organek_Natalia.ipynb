{
 "cells": [
  {
   "cell_type": "code",
   "execution_count": 493,
   "id": "breathing-professor",
   "metadata": {},
   "outputs": [],
   "source": [
    "import os\n",
    "import regex as re"
   ]
  },
  {
   "cell_type": "markdown",
   "id": "junior-habitat",
   "metadata": {},
   "source": [
    "First I unpacked .zip file and opened all files"
   ]
  },
  {
   "cell_type": "code",
   "execution_count": 494,
   "id": "unable-antigua",
   "metadata": {},
   "outputs": [],
   "source": [
    "directory = 'ustawy'"
   ]
  },
  {
   "cell_type": "code",
   "execution_count": 495,
   "id": "confidential-fifteen",
   "metadata": {},
   "outputs": [],
   "source": [
    "filenames = os.listdir('ustawy')"
   ]
  },
  {
   "cell_type": "markdown",
   "id": "transsexual-scholar",
   "metadata": {},
   "source": [
    "I gathered them to one dictionary, divided by year.\n",
    "I also removed non-breaking space and soft-hypen to not disturb\n",
    "_also_ in my work I use \\s as you never know what white space was used and I often use + or * with them as there can be many of them"
   ]
  },
  {
   "cell_type": "code",
   "execution_count": 496,
   "id": "pediatric-traveler",
   "metadata": {},
   "outputs": [],
   "source": [
    "bills1 = {}\n",
    "year_regex = r'(\\d+)_\\d+\\.txt'\n",
    "\n",
    "\n",
    "for filename in filenames:\n",
    "    with open(os.path.join(directory, filename)) as f:\n",
    "        bill = f.read()\n",
    "        year = re.match(year_regex, filename).group(1)\n",
    "        bill = bill.replace(\"\\xa0\", ' ').replace(\"\\xad\", '')\n",
    "        \n",
    "        if bills1.get(year, []):\n",
    "            bills1[year].append(bill)\n",
    "        else:\n",
    "            bills1[year] = [bill]\n",
    "            \n"
   ]
  },
  {
   "cell_type": "markdown",
   "id": "electrical-white",
   "metadata": {},
   "source": [
    "I prepared functions to count expression occurences by year"
   ]
  },
  {
   "cell_type": "code",
   "execution_count": 497,
   "id": "swiss-species",
   "metadata": {},
   "outputs": [],
   "source": [
    "def count_times_for_year(regex, year):\n",
    "    counter = 0\n",
    "    for bill in bills[year]:\n",
    "        counter += len(re.findall(regex, bill))\n",
    "    return counter"
   ]
  },
  {
   "cell_type": "code",
   "execution_count": 498,
   "id": "governing-salad",
   "metadata": {},
   "outputs": [],
   "source": [
    "def count_times(regex):\n",
    "    counter = {}\n",
    "    for year in bills:\n",
    "        counter[year] = count_times_for_year(regex, year)\n",
    "    return counter"
   ]
  },
  {
   "cell_type": "markdown",
   "id": "north-smell",
   "metadata": {},
   "source": [
    "# TASK 1\n",
    "For each bill compute the number of the following amendments present in the bill:\n",
    "\n",
    "addition of a unit (e.g. dodaje się ust. 5a),\n",
    "\n",
    "removal of a unit (e.g. w art. 10 ust. 1 pkt 8 skreśla się),\n",
    "\n",
    "change of a unit (e.g. art. 5 otrzymuje brzmienie)."
   ]
  },
  {
   "cell_type": "markdown",
   "id": "handy-lesson",
   "metadata": {},
   "source": [
    "First, I removed any texts in \"\" because they were bills citations and I didn't mean to count phrases in citated bills, only original bills"
   ]
  },
  {
   "cell_type": "code",
   "execution_count": 499,
   "id": "viral-special",
   "metadata": {},
   "outputs": [],
   "source": [
    "quotation_regex = \"\\\"[\\s\\S]*?\\\"\" # any white or non-white sign in \"\"\n",
    "bills = {k: [re.sub(quotation_regex, '', b) for b in v] for k, v in sorted(bills1.items(), key=lambda item: item[0])}"
   ]
  },
  {
   "cell_type": "markdown",
   "id": "adjacent-aircraft",
   "metadata": {},
   "source": [
    "To avoid letter case sensitiveness I use (?i) in my regexes"
   ]
  },
  {
   "cell_type": "markdown",
   "id": "beginning-continuity",
   "metadata": {},
   "source": [
    "## Addidtions"
   ]
  },
  {
   "cell_type": "markdown",
   "id": "desirable-haiti",
   "metadata": {},
   "source": [
    "First I browsed through corpus and found what parts of bills are:\n",
    "- art.\n",
    "- lit.\n",
    "- poz.\n",
    "- ust.\n",
    "- pkt\n",
    "- §\n",
    "- rozdział\n",
    "- tytuł rozdziału\n",
    "- zdanie wstępne\n",
    "- zdanie końcowe"
   ]
  },
  {
   "cell_type": "code",
   "execution_count": 500,
   "id": "proper-external",
   "metadata": {},
   "outputs": [],
   "source": [
    "bill_parts = '(ust\\.?|pkt\\.?|art\\.?|§|lit\\.?|poz\\.?|rozdział|tytuł(?:\\s(rozdziału|ustawy))?|zdani(e)\\skońcowe|zdanie\\swstępne)'"
   ]
  },
  {
   "cell_type": "markdown",
   "id": "established-biology",
   "metadata": {},
   "source": [
    "Sentences with additions:\n",
    "- ust. 1 i dodaje się ust. 2-4 w brzmieniu:\n",
    "- i dodaje się lit. e w brzmieniu:\n",
    "- dodaje się nowy ust. 3 w brzmieniu:\n",
    "\n",
    "so it's only 'dodaje się' or 'dodaje się nowy' and part of bill"
   ]
  },
  {
   "cell_type": "code",
   "execution_count": 501,
   "id": "compact-conversion",
   "metadata": {},
   "outputs": [],
   "source": [
    "addition_words = 'dodaje\\ssię(\\s+now(y|ą|e)\\s*)?'\n"
   ]
  },
  {
   "cell_type": "code",
   "execution_count": 502,
   "id": "golden-pregnancy",
   "metadata": {},
   "outputs": [],
   "source": [
    "addition_regex = f'(?i){addition_words}(\\s+{bill_parts})'"
   ]
  },
  {
   "cell_type": "code",
   "execution_count": 503,
   "id": "beautiful-waste",
   "metadata": {},
   "outputs": [
    {
     "name": "stdout",
     "output_type": "stream",
     "text": [
      "(?i)dodaje\\ssię(\\s+now(y|ą|e)\\s*)?(\\s+(ust\\.?|pkt\\.?|art\\.?|§|lit\\.?|poz\\.?|rozdział|tytuł(?:\\s(rozdziału|ustawy))?|zdani(e)\\skońcowe|zdanie\\swstępne))\n"
     ]
    }
   ],
   "source": [
    "print(addition_regex)"
   ]
  },
  {
   "cell_type": "markdown",
   "id": "automatic-beauty",
   "metadata": {},
   "source": [
    "## Removals"
   ]
  },
  {
   "cell_type": "markdown",
   "id": "infrared-parliament",
   "metadata": {},
   "source": [
    "Sentences with removals:\n",
    "- w pkt 3 skreśla się lit.c)\n",
    "- skreśla się w ust. 1 pkt 5,\n",
    "- art. 292 skreśla się.\n",
    "- skreśla się art. 281 i 282{1};\n",
    "- uchyla się ust. 1A,"
   ]
  },
  {
   "cell_type": "markdown",
   "id": "prerequisite-representation",
   "metadata": {},
   "source": [
    "Removals are more problematic as there are more cases.\n",
    "For the beginning, I'll go for 'skreśla/uchyla się' followed by \\<part name\\>. So positive lookahead."
   ]
  },
  {
   "cell_type": "code",
   "execution_count": 504,
   "id": "neutral-ideal",
   "metadata": {},
   "outputs": [],
   "source": [
    "deletion_words = '((skreśla|uchyla)\\s+się)'"
   ]
  },
  {
   "cell_type": "code",
   "execution_count": 505,
   "id": "knowing-atlantic",
   "metadata": {},
   "outputs": [],
   "source": [
    "deletion1 = f'{deletion_words}(?=\\s+{bill_parts})'\n",
    "# there is also very similar 'skreśla się w <part>' so I'll use 'w' as non-obligatory sign\n",
    "deletion1 = f'{deletion_words}(\\s+w)?(?=\\s+{bill_parts})'"
   ]
  },
  {
   "cell_type": "code",
   "execution_count": 506,
   "id": "extensive-shoulder",
   "metadata": {},
   "outputs": [
    {
     "name": "stdout",
     "output_type": "stream",
     "text": [
      "((skreśla|uchyla)\\s+się)(\\s+w)?(?=\\s+(ust\\.?|pkt\\.?|art\\.?|§|lit\\.?|poz\\.?|rozdział|tytuł(?:\\s(rozdziału|ustawy))?|zdani(e)\\skońcowe|zdanie\\swstępne))\n"
     ]
    }
   ],
   "source": [
    "print(deletion1)"
   ]
  },
  {
   "cell_type": "markdown",
   "id": "color-creature",
   "metadata": {},
   "source": [
    "Next I'll go for '\\<bill part>\\<bill part number> skreśla/uchyla się' or 'w \\<bill part>\\<bill part number> skreśla/uchyla się:'\n",
    "\n",
    "So bill parts are followed deletion words and then again bill parts or :"
   ]
  },
  {
   "cell_type": "markdown",
   "id": "human-vancouver",
   "metadata": {},
   "source": [
    "As for numbers - there are many different kinds of them in bills:\n",
    "- art. 2a\n",
    "- pkt 1, 2 i 5\n",
    "- pkt 2{1} - 5\n",
    "- lit. f\n",
    "- Tytuł V"
   ]
  },
  {
   "cell_type": "code",
   "execution_count": 507,
   "id": "usual-aruba",
   "metadata": {},
   "outputs": [],
   "source": [
    "# number with letter, e.g. 5a\n",
    "letter = '\\w'\n",
    "number_reg = f'(\\d+{letter}?)'\n",
    "# there could be also numers like 5{1}\n",
    "mustache = '(?:{\\d+})'\n",
    "number_reg = f'(\\d+{letter}?{mustache}?)'\n",
    "# it could be , and i\n",
    "number_after_col = f'(\\s*,\\s*{number_reg})'\n",
    "number_after_i = f'(\\s*i\\s*{number_reg})'\n",
    "repetitive_number = f'{number_reg}{number_after_col}?{number_after_i}?'\n",
    "# there could be also numbers after -\n",
    "number_after_dash = f'(\\s*-\\s*{number_reg})'\n",
    "whole_number = f'{number_reg}{number_after_col}?{number_after_i}?{number_after_dash}?'\n",
    "# there could be also roman numbers or just letter\n",
    "roman = '((I|V|X|D|C|M)+)'\n",
    "after_part_regex = f'({whole_number}|{roman}|\\w)'\n"
   ]
  },
  {
   "cell_type": "code",
   "execution_count": 508,
   "id": "forward-division",
   "metadata": {},
   "outputs": [],
   "source": [
    "deletion2 = f'w?\\s*{bill_parts}\\s+{after_part_regex}?(\\s*{deletion_words})(?=\\s*({bill_parts}|:|.|;|,))'"
   ]
  },
  {
   "cell_type": "code",
   "execution_count": 509,
   "id": "professional-specialist",
   "metadata": {},
   "outputs": [
    {
     "name": "stdout",
     "output_type": "stream",
     "text": [
      "w?\\s*(ust\\.?|pkt\\.?|art\\.?|§|lit\\.?|poz\\.?|rozdział|tytuł(?:\\s(rozdziału|ustawy))?|zdani(e)\\skońcowe|zdanie\\swstępne)\\s+((\\d+\\w?(?:{\\d+})?)(\\s*,\\s*(\\d+\\w?(?:{\\d+})?))?(\\s*i\\s*(\\d+\\w?(?:{\\d+})?))?(\\s*-\\s*(\\d+\\w?(?:{\\d+})?))?|((I|V|X|D|C|M)+)|\\w)?(\\s*((skreśla|uchyla)\\s+się))(?=\\s*((ust\\.?|pkt\\.?|art\\.?|§|lit\\.?|poz\\.?|rozdział|tytuł(?:\\s(rozdziału|ustawy))?|zdani(e)\\skońcowe|zdanie\\swstępne)|:|.|;|,))\n"
     ]
    }
   ],
   "source": [
    "print(deletion2)"
   ]
  },
  {
   "cell_type": "code",
   "execution_count": 510,
   "id": "pacific-school",
   "metadata": {},
   "outputs": [],
   "source": [
    "removal_regex = f'(?i){deletion1}|{deletion2}'"
   ]
  },
  {
   "cell_type": "code",
   "execution_count": 511,
   "id": "affected-hindu",
   "metadata": {},
   "outputs": [
    {
     "name": "stdout",
     "output_type": "stream",
     "text": [
      "(?i)((skreśla|uchyla)\\s+się)(\\s+w)?(?=\\s+(ust\\.?|pkt\\.?|art\\.?|§|lit\\.?|poz\\.?|rozdział|tytuł(?:\\s(rozdziału|ustawy))?|zdani(e)\\skońcowe|zdanie\\swstępne))|w?\\s*(ust\\.?|pkt\\.?|art\\.?|§|lit\\.?|poz\\.?|rozdział|tytuł(?:\\s(rozdziału|ustawy))?|zdani(e)\\skońcowe|zdanie\\swstępne)\\s+((\\d+\\w?(?:{\\d+})?)(\\s*,\\s*(\\d+\\w?(?:{\\d+})?))?(\\s*i\\s*(\\d+\\w?(?:{\\d+})?))?(\\s*-\\s*(\\d+\\w?(?:{\\d+})?))?|((I|V|X|D|C|M)+)|\\w)?(\\s*((skreśla|uchyla)\\s+się))(?=\\s*((ust\\.?|pkt\\.?|art\\.?|§|lit\\.?|poz\\.?|rozdział|tytuł(?:\\s(rozdziału|ustawy))?|zdani(e)\\skońcowe|zdanie\\swstępne)|:|.|;|,))\n"
     ]
    }
   ],
   "source": [
    "print(removal_regex)"
   ]
  },
  {
   "cell_type": "code",
   "execution_count": 512,
   "id": "outer-savings",
   "metadata": {},
   "outputs": [],
   "source": [
    "# removal_regex = r'(?i)(skreśla\\s+się|uchyla\\s+się)(:?\\s+w\\s*)?(?=\\s+(ust\\.?|pkt|art\\.?|§|lit\\.?|poz\\.?))|(:?w)?\\s*(ust.|pkt|art.|§|lit.|poz.)\\s+\\d+\\s+(skreśla\\s+się|uchyla\\s+się)(?=\\s+(ust.|pkt|art.|§|lit.|poz.|:))|(?<!w )(ust\\.|pkt|art\\.|§|lit\\.|poz\\.)\\s+\\d+\\s+(skreśla\\s+się|uchyla\\s+się)'"
   ]
  },
  {
   "cell_type": "markdown",
   "id": "therapeutic-composer",
   "metadata": {},
   "source": [
    "## Changes"
   ]
  },
  {
   "cell_type": "markdown",
   "id": "mobile-combat",
   "metadata": {},
   "source": [
    "Those sentences are like:\n",
    "- dotychczasowa treść otrzymuje oznaczenie ust. 1,\n",
    "- ust. 4 otrzymuje brzmienie:\n",
    "- w ust. 5 pkt 1,5 i 2 otrzymują brzmienie:\n",
    "- ust. 3a otrzymuje brzmienie:\n",
    "- art. 86{7} otrzymuje brzmienie:\n",
    "- art. 12 - 15 otrzymują brzmienie:\n",
    "- zdanie wstępne otrzymuje brzmienie:\n",
    "- lit. c otrzymuje brzmienie:\n",
    "\n",
    "So there are typical bill parts and key words will be otrzymuje brzmienie/oznaczenie"
   ]
  },
  {
   "cell_type": "code",
   "execution_count": 513,
   "id": "dressed-absorption",
   "metadata": {},
   "outputs": [
    {
     "name": "stdout",
     "output_type": "stream",
     "text": [
      "(?i)(ust\\.?|pkt|art\\.?|§|lit\\.?|poz\\.?|rozdział|tytuł(?:\\srozdziału)?|zdanie\\skońcowe|zdanie\\swstępne)\\s*((\\d+\\w?(?:{\\d+})?)(\\s*,\\s*(\\d+\\w?(?:{\\d+})?))?(\\s*i\\s*(\\d+\\w?(?:{\\d+})?))?(\\s*-\\s*(\\d+\\w?(?:{\\d+})?))?|((I|V|X|D|C|M)+)|\\w)?\\s*(((\\s*otrzymuj(?:ą|e)|nadaje\\s+się)\\s+)(brzmienie|oznaczenie))|oznacza\\s+się|(treść\\s+otrzymuje\\s+oznaczenie)\n"
     ]
    }
   ],
   "source": [
    "# changes are like otrzymuje/ą brzmienie, otrzymują/e oznaczenie, nadaje się brzmienie/oznaczenie, oznacza się...,\n",
    "# treść otrzymuje oznaczenie\n",
    "changes_words = '(((\\s*otrzymuj(?:ą|e)|nadaje\\s+się)\\s+)(brzmienie|oznaczenie))|oznacza\\s+się'\n",
    "\n",
    "change_regex = f'(?i){bill_parts}\\s*{after_part_regex}?\\s*{changes_words}'\n",
    "print(changes_regex)"
   ]
  },
  {
   "cell_type": "markdown",
   "id": "personalized-amino",
   "metadata": {},
   "source": [
    "## Plot percentage"
   ]
  },
  {
   "cell_type": "code",
   "execution_count": 515,
   "id": "enormous-stadium",
   "metadata": {},
   "outputs": [],
   "source": [
    "addition_count = count_times(addition_regex)\n",
    "removal_count = count_times(removal_regex)\n",
    "change_count = count_times(change_regex)\n",
    "years = [year for year in bills]"
   ]
  },
  {
   "cell_type": "code",
   "execution_count": 516,
   "id": "brown-citation",
   "metadata": {},
   "outputs": [],
   "source": [
    "addition_count = [addition_count[year] for year in years]\n",
    "removal_count = [removal_count[year] for year in years]\n",
    "change_count = [change_count[year] for year in years]\n",
    "all_count = [addition_count[i] + removal_count[i] + change_count[i] for i in range(len(addition_count))]"
   ]
  },
  {
   "cell_type": "code",
   "execution_count": 517,
   "id": "desirable-emergency",
   "metadata": {},
   "outputs": [
    {
     "name": "stdout",
     "output_type": "stream",
     "text": [
      "5193\n",
      "2388\n",
      "8548\n"
     ]
    }
   ],
   "source": [
    "print(sum(addition_count))\n",
    "print(sum(removal_count))\n",
    "print(sum(change_count))"
   ]
  },
  {
   "cell_type": "code",
   "execution_count": 518,
   "id": "sapphire-briefing",
   "metadata": {},
   "outputs": [],
   "source": [
    "add_perc = [100 * addition_count[i] / all_count[i] for i in range(len(all_count))]\n",
    "rem_perc = [100 * removal_count[i] / all_count[i] for i in range(len(all_count))]\n",
    "change_perc = [100 * change_count[i] / all_count[i] for i in range(len(all_count))]"
   ]
  },
  {
   "cell_type": "code",
   "execution_count": 519,
   "id": "identified-concentration",
   "metadata": {},
   "outputs": [
    {
     "data": {
      "image/png": "[encoded data removed]",
      "text/plain": [
       "<Figure size 432x288 with 1 Axes>"
      ]
     },
     "metadata": {
      "needs_background": "light"
     },
     "output_type": "display_data"
    }
   ],
   "source": [
    "import matplotlib.pyplot as plt\n",
    "\n",
    "plt.plot(years, add_perc, label = 'additions')\n",
    "plt.plot(years, rem_perc, label = 'removals')\n",
    "plt.plot(years, change_perc, label = 'changes')\n",
    "plt.xlabel('Year')\n",
    "plt.ylabel('% of amendments')\n",
    "plt.legend()\n",
    "plt.show()"
   ]
  },
  {
   "cell_type": "markdown",
   "id": "filled-chapel",
   "metadata": {},
   "source": [
    "# Task 2\n",
    "Compute the total number of occurrences of the word ustawa in any inflectional form (ustawa, ustawie, ustawę, etc.) and all spelling forms (ustawa, Ustawa, USTAWA), excluding other words with the same prefix (e.g. ustawić)."
   ]
  },
  {
   "cell_type": "markdown",
   "id": "synthetic-compact",
   "metadata": {},
   "source": [
    "Possible inflectional words: \n",
    "- ustawa, ustawy, ustawie, ustawę, ustawą, ustawo\n",
    "- ustawy, ustaw, ustawom, ustawami, ustawach\n",
    "\n",
    "topic: ustaw, ends: a,y,ie,ę,ą,o,0,om,ami,ach\n",
    "\n",
    "It has to be case insensitive (?i) and I'm looking for a whole word so I use (\\b) to set the borders"
   ]
  },
  {
   "cell_type": "code",
   "execution_count": 520,
   "id": "pleased-florida",
   "metadata": {},
   "outputs": [],
   "source": [
    "# back to data with texts from quotations\n",
    "bills = {k: v for k, v in sorted(bills1.items(), key=lambda item: item[0])}"
   ]
  },
  {
   "cell_type": "code",
   "execution_count": 521,
   "id": "close-groove",
   "metadata": {},
   "outputs": [
    {
     "data": {
      "text/plain": [
       "'a|y|ie|ę|ą|o|om|ami|ach'"
      ]
     },
     "execution_count": 521,
     "metadata": {},
     "output_type": "execute_result"
    }
   ],
   "source": [
    "ends = ['a', 'y', 'ie', 'ę', 'ą', 'o', 'om', 'ami', 'ach']\n",
    "topic = 'ustaw'\n",
    "ends_regex = '|'.join(ends)\n",
    "ends_regex"
   ]
  },
  {
   "cell_type": "markdown",
   "id": "listed-chicken",
   "metadata": {},
   "source": [
    "## All ustawa occurences"
   ]
  },
  {
   "cell_type": "code",
   "execution_count": 522,
   "id": "placed-split",
   "metadata": {},
   "outputs": [],
   "source": [
    "ustawa_regex = f'(?i)\\\\b{topic}({ends_regex})?\\\\b'"
   ]
  },
  {
   "cell_type": "code",
   "execution_count": 523,
   "id": "narrow-chosen",
   "metadata": {},
   "outputs": [
    {
     "name": "stdout",
     "output_type": "stream",
     "text": [
      "(?i)\\bustaw(a|y|ie|ę|ą|o|om|ami|ach)?\\b\n"
     ]
    }
   ],
   "source": [
    "print(ustawa_regex)"
   ]
  },
  {
   "cell_type": "code",
   "execution_count": 524,
   "id": "regional-jewel",
   "metadata": {},
   "outputs": [],
   "source": [
    "ustawa_counts = count_times(ustawa_regex)\n",
    "all_ustawa_counts = sum([ustawa_counts[year] for year in years])"
   ]
  },
  {
   "cell_type": "markdown",
   "id": "saving-horror",
   "metadata": {},
   "source": [
    "All occurences:"
   ]
  },
  {
   "cell_type": "code",
   "execution_count": 525,
   "id": "unnecessary-bishop",
   "metadata": {},
   "outputs": [
    {
     "data": {
      "text/plain": [
       "24937"
      ]
     },
     "execution_count": 525,
     "metadata": {},
     "output_type": "execute_result"
    }
   ],
   "source": [
    "all_ustawa_counts"
   ]
  },
  {
   "cell_type": "markdown",
   "id": "thorough-reserve",
   "metadata": {},
   "source": [
    "## Followed by 'z dnia' expression\n",
    "followed so I'll use (?=) - positive lookahead"
   ]
  },
  {
   "cell_type": "code",
   "execution_count": 526,
   "id": "critical-grill",
   "metadata": {},
   "outputs": [],
   "source": [
    "ustawa_followed_regex = f'(?i)\\\\b{topic}({ends_regex})?\\\\b(?=\\s+z\\s+dnia)'"
   ]
  },
  {
   "cell_type": "code",
   "execution_count": 527,
   "id": "objective-fever",
   "metadata": {},
   "outputs": [
    {
     "name": "stdout",
     "output_type": "stream",
     "text": [
      "(?i)\\bustaw(a|y|ie|ę|ą|o|om|ami|ach)?\\b(?=\\s+z\\s+dnia)\n"
     ]
    }
   ],
   "source": [
    "print(ustawa_followed_regex)"
   ]
  },
  {
   "cell_type": "code",
   "execution_count": 528,
   "id": "actual-stations",
   "metadata": {},
   "outputs": [],
   "source": [
    "ustawa_followed_counts = count_times(ustawa_followed_regex)\n",
    "all_ustawa_followed_counts = sum([ustawa_followed_counts[year] for year in years])"
   ]
  },
  {
   "cell_type": "code",
   "execution_count": 529,
   "id": "comprehensive-report",
   "metadata": {},
   "outputs": [
    {
     "data": {
      "text/plain": [
       "8588"
      ]
     },
     "execution_count": 529,
     "metadata": {},
     "output_type": "execute_result"
    }
   ],
   "source": [
    "all_ustawa_followed_counts"
   ]
  },
  {
   "cell_type": "markdown",
   "id": "beneficial-rally",
   "metadata": {},
   "source": [
    "## Not followed by 'z dnia' expression\n",
    "not followed so (?!) - negative lookahead"
   ]
  },
  {
   "cell_type": "code",
   "execution_count": 530,
   "id": "israeli-title",
   "metadata": {},
   "outputs": [],
   "source": [
    "ustawa_not_followed_regex = f'(?i)\\\\b{topic}({ends_regex})?\\\\b(?!\\s+z\\s+dnia)'"
   ]
  },
  {
   "cell_type": "code",
   "execution_count": 531,
   "id": "silent-sleep",
   "metadata": {},
   "outputs": [
    {
     "name": "stdout",
     "output_type": "stream",
     "text": [
      "(?i)\\bustaw(a|y|ie|ę|ą|o|om|ami|ach)?\\b(?!\\s+z\\s+dnia)\n"
     ]
    }
   ],
   "source": [
    "print(ustawa_not_followed_regex)"
   ]
  },
  {
   "cell_type": "code",
   "execution_count": 532,
   "id": "czech-subcommittee",
   "metadata": {},
   "outputs": [],
   "source": [
    "ustawa_not_followed_counts = count_times(ustawa_not_followed_regex)\n",
    "all_ustawa_not_followed_counts = sum([ustawa_not_followed_counts[year] for year in years])"
   ]
  },
  {
   "cell_type": "code",
   "execution_count": 533,
   "id": "remarkable-banks",
   "metadata": {},
   "outputs": [
    {
     "data": {
      "text/plain": [
       "16349"
      ]
     },
     "execution_count": 533,
     "metadata": {},
     "output_type": "execute_result"
    }
   ],
   "source": [
    "all_ustawa_not_followed_counts"
   ]
  },
  {
   "cell_type": "markdown",
   "id": "concrete-behalf",
   "metadata": {},
   "source": [
    "Quick check if control sum is correct - it is :)"
   ]
  },
  {
   "cell_type": "code",
   "execution_count": 534,
   "id": "defined-school",
   "metadata": {},
   "outputs": [
    {
     "data": {
      "text/plain": [
       "True"
      ]
     },
     "execution_count": 534,
     "metadata": {},
     "output_type": "execute_result"
    }
   ],
   "source": [
    "all_ustawa_not_followed_counts + all_ustawa_followed_counts == all_ustawa_counts"
   ]
  },
  {
   "cell_type": "markdown",
   "id": "grave-horizon",
   "metadata": {},
   "source": [
    "# Task 3"
   ]
  },
  {
   "cell_type": "markdown",
   "id": "faced-officer",
   "metadata": {},
   "source": [
    "Compute the total number of occurrences of the word ustawa in any inflectional form, excluding occurrences following o zmianie expression."
   ]
  },
  {
   "cell_type": "markdown",
   "id": "signal-allen",
   "metadata": {},
   "source": [
    "To exclude word following expression, (?<!) - negative lookbehind is used, it demands using fixed length of the word so I assume that there is only one white sign"
   ]
  },
  {
   "cell_type": "code",
   "execution_count": 535,
   "id": "removed-argument",
   "metadata": {},
   "outputs": [],
   "source": [
    "ustawa_excluded_regex = f'(?i)\\\\b(?<!zmianie\\s)\\\\b\\\\b{topic}({ends_regex})?\\\\b'"
   ]
  },
  {
   "cell_type": "code",
   "execution_count": 536,
   "id": "norman-shell",
   "metadata": {},
   "outputs": [
    {
     "name": "stdout",
     "output_type": "stream",
     "text": [
      "(?i)\\b(?<!zmianie\\s)\\b\\bustaw(a|y|ie|ę|ą|o|om|ami|ach)?\\b\n"
     ]
    }
   ],
   "source": [
    "print(ustawa_excluded_regex)"
   ]
  },
  {
   "cell_type": "code",
   "execution_count": 537,
   "id": "dedicated-worth",
   "metadata": {},
   "outputs": [],
   "source": [
    "ustawa_excluded_counts = count_times(ustawa_excluded_regex)\n",
    "all_ustawa_excluded_counts = sum([ustawa_excluded_counts[year] for year in years])"
   ]
  },
  {
   "cell_type": "code",
   "execution_count": 538,
   "id": "modified-chorus",
   "metadata": {},
   "outputs": [
    {
     "data": {
      "text/plain": [
       "24078"
      ]
     },
     "execution_count": 538,
     "metadata": {},
     "output_type": "execute_result"
    }
   ],
   "source": [
    "all_ustawa_excluded_counts"
   ]
  },
  {
   "cell_type": "markdown",
   "id": "right-robertson",
   "metadata": {},
   "source": [
    "# Plotting 'ustawa'"
   ]
  },
  {
   "cell_type": "code",
   "execution_count": 539,
   "id": "durable-cookie",
   "metadata": {},
   "outputs": [
    {
     "data": {
      "image/png": "[encoded data removed]",
      "text/plain": [
       "<Figure size 720x504 with 1 Axes>"
      ]
     },
     "metadata": {
      "needs_background": "light"
     },
     "output_type": "display_data"
    }
   ],
   "source": [
    "fig, ax = plt.subplots(figsize=(10,7))\n",
    "labels = ['All', 'Followed \"z dnia\"', 'Not followed \"z dnia\"', 'Not following \"zmianach\"']\n",
    "values = [all_ustawa_counts, all_ustawa_followed_counts, all_ustawa_not_followed_counts, all_ustawa_excluded_counts]\n",
    "ax.bar(labels,values)\n",
    "ax.set_ylabel('Counts')\n",
    "ax.set_title('\"Ustawa\" word counts')\n",
    "\n",
    "\n",
    "\n",
    "plt.show()"
   ]
  }
 ],
 "metadata": {
  "kernelspec": {
   "display_name": "Python 3",
   "language": "python",
   "name": "python3"
  },
  "language_info": {
   "codemirror_mode": {
    "name": "ipython",
    "version": 3
   },
   "file_extension": ".py",
   "mimetype": "text/x-python",
   "name": "python",
   "nbconvert_exporter": "python",
   "pygments_lexer": "ipython3",
   "version": "3.8.5"
  }
 },
 "nbformat": 4,
 "nbformat_minor": 5
}
